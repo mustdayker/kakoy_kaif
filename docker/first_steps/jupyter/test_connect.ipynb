{
 "cells": [
  {
   "cell_type": "markdown",
   "id": "2cc1f7d5-6084-4b8c-81da-041e8f15082c",
   "metadata": {},
   "source": [
    "### Проверяем соединение с базой `learn_base`"
   ]
  },
  {
   "cell_type": "code",
   "execution_count": 3,
   "id": "0baed5f8-57a9-4b19-be9a-d1e0d5b14427",
   "metadata": {},
   "outputs": [
    {
     "name": "stdout",
     "output_type": "stream",
     "text": [
      "✅ Подключение успешно!\n",
      "\n",
      "Версия PostgreSQL: PostgreSQL 15.14 on x86_64-pc-linux-musl, compiled by gcc (Alpine 14.2.0) 14.2.0, 64-bit\n"
     ]
    }
   ],
   "source": [
    "import psycopg2\n",
    "\n",
    "try:\n",
    "    conn = psycopg2.connect(\n",
    "        host=\"postgres-db\",\n",
    "        port=5432,\n",
    "        database=\"learn_base\",\n",
    "        user=\"admin\",\n",
    "        password=\"admin\"\n",
    "    )\n",
    "    \n",
    "    cursor = conn.cursor()\n",
    "    cursor.execute(\"SELECT version();\")\n",
    "    print(\"✅ Подключение успешно!\\n\")\n",
    "    print(f\"Версия PostgreSQL: {cursor.fetchone()[0]}\")\n",
    "    \n",
    "    cursor.close()\n",
    "    conn.close()\n",
    "    \n",
    "except Exception as e:\n",
    "    print(f\"❌ Ошибка подключения: {e}\")"
   ]
  },
  {
   "cell_type": "markdown",
   "id": "646b5d95-3ac6-469f-bf8c-7c760fee2826",
   "metadata": {},
   "source": [
    "### Проверяем соединение с базой `kakoy_kaif`"
   ]
  },
  {
   "cell_type": "code",
   "execution_count": 4,
   "id": "b6e9aeff-ce66-4e40-a8b6-3dd2c426c983",
   "metadata": {},
   "outputs": [
    {
     "name": "stdout",
     "output_type": "stream",
     "text": [
      "✅ Подключение успешно!\n",
      "\n",
      "Версия PostgreSQL: PostgreSQL 15.14 on x86_64-pc-linux-musl, compiled by gcc (Alpine 14.2.0) 14.2.0, 64-bit\n"
     ]
    }
   ],
   "source": [
    "import psycopg2\n",
    "\n",
    "try:\n",
    "    conn = psycopg2.connect(\n",
    "        host=\"postgres-db\",\n",
    "        port=5432,\n",
    "        database=\"kakoy_kaif\",\n",
    "        user=\"admin\",\n",
    "        password=\"admin\"\n",
    "    )\n",
    "    \n",
    "    cursor = conn.cursor()\n",
    "    cursor.execute(\"SELECT version();\")\n",
    "    print(\"✅ Подключение успешно!\\n\")\n",
    "    print(f\"Версия PostgreSQL: {cursor.fetchone()[0]}\")\n",
    "    \n",
    "    cursor.close()\n",
    "    conn.close()\n",
    "    \n",
    "except Exception as e:\n",
    "    print(f\"❌ Ошибка подключения: {e}\")"
   ]
  },
  {
   "cell_type": "code",
   "execution_count": null,
   "id": "c3065ef9-d41f-4699-867c-e6048ebc291b",
   "metadata": {},
   "outputs": [],
   "source": []
  },
  {
   "cell_type": "code",
   "execution_count": null,
   "id": "625c46a7-9a1f-415d-acd3-ba11f008ba00",
   "metadata": {},
   "outputs": [],
   "source": []
  }
 ],
 "metadata": {
  "kernelspec": {
   "display_name": "Python 3 (ipykernel)",
   "language": "python",
   "name": "python3"
  },
  "language_info": {
   "codemirror_mode": {
    "name": "ipython",
    "version": 3
   },
   "file_extension": ".py",
   "mimetype": "text/x-python",
   "name": "python",
   "nbconvert_exporter": "python",
   "pygments_lexer": "ipython3",
   "version": "3.11.6"
  }
 },
 "nbformat": 4,
 "nbformat_minor": 5
}
